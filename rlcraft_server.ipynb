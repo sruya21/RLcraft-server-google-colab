{
  "nbformat": 4,
  "nbformat_minor": 0,
  "metadata": {
    "colab": {
      "name": "rlcraft-server.ipynb",
      "provenance": [],
      "authorship_tag": "ABX9TyMtkfqD8lHzj/QCs0IcVISe"
    },
    "kernelspec": {
      "name": "python3",
      "display_name": "Python 3"
    }
  },
  "cells": [
    {
      "cell_type": "markdown",
      "metadata": {
        "id": "plnHNyaIgKLD"
      },
      "source": [
        "# RLcraft Server\r\n",
        "\r\n",
        "easy to use"
      ]
    },
    {
      "cell_type": "code",
      "metadata": {
        "cellView": "form",
        "id": "FIn5qxyPdw67"
      },
      "source": [
        "#@title First mount google drive for the file server\r\n",
        "\r\n",
        "from google.colab import drive\r\n",
        "drive.mount('/content/drive', force_remount=True)"
      ],
      "execution_count": null,
      "outputs": []
    },
    {
      "cell_type": "code",
      "metadata": {
        "cellView": "form",
        "id": "YMg1McrVgr5c"
      },
      "source": [
        "#@title We need a terminal for first time execution to switch java version because RLcraft only support openjdk 8\r\n",
        "\r\n",
        "!pip install kora > /dev/null 2>&1 || echo \"Failed to install kora\"\r\n",
        "!apt-get install openjdk-8-jdk\r\n",
        "from kora import console\r\n",
        "\r\n",
        "print(\"Link to console :\")\r\n",
        "console.start()"
      ],
      "execution_count": null,
      "outputs": []
    },
    {
      "cell_type": "markdown",
      "metadata": {
        "id": "-9jc16GohY00"
      },
      "source": [
        "# Open the console\r\n",
        "\r\n",
        "then paste this command\r\n",
        "\r\n",
        "\r\n",
        "```\r\n",
        "java -version\r\n",
        "```\r\n",
        "\r\n",
        "google colab has openjdk ver11 we need switch it to openjdk ver 8 by run this command below\r\n",
        "\r\n",
        "\r\n",
        "```\r\n",
        "update-alternatives --config java\r\n",
        "```\r\n",
        "after that choose openjdk ver 8.\r\n",
        "\r\n",
        "we neeed to move to drive folder and create new folder in drive by run this command\r\n",
        "\r\n",
        "\r\n",
        "```\r\n",
        "cd /drive/MyDrive\r\n",
        "mkdir rlcraft-server\r\n",
        "```\r\n",
        "\r\n",
        "after that you need download forge and place it to the rlcraft-server folder then execute, u can copy this command\r\n",
        "\r\n",
        "\r\n",
        "```\r\n",
        "cd rlcraft-server\r\n",
        "wget https://files.minecraftforge.net/maven/net/minecraftforge/forge/1.12.2-14.23.5.2854/forge-1.12.2-14.23.5.2854-installer.jar\r\n",
        "java forge-1.12.2-14.23.5.2854-installer.jar\r\n",
        "```\r\n",
        "\r\n",
        "it will install minecraft forge version, but now we need a rlcraft modpack download it at here\r\n",
        "\r\n",
        "\r\n",
        "```\r\n",
        "https://www.curseforge.com/minecraft/modpacks/rlcraft/download/2935323\r\n",
        "```\r\n",
        "\r\n",
        "then after that upload it at google drive in rlcraft-server folder and unzip it in google colab console by this command\r\n",
        "\r\n",
        "\r\n",
        "```\r\n",
        "unzip filename.zip\r\n",
        "```\r\n",
        "\r\n",
        "after that execute this\r\n",
        "\r\n",
        "```\r\n",
        "java forge-1.12.2-14.23.5.2854.jar\r\n",
        "```\r\n",
        "\r\n",
        "and you ready to go in next cell, before that you must change this below in server.properties\r\n",
        "\r\n",
        "```\r\n",
        "allow-flight=true\r\n",
        "difficulty=3\r\n",
        "max-tick-time=-1\r\n",
        "view-distance=6\r\n",
        "```\r\n",
        "\r\n"
      ]
    },
    {
      "cell_type": "code",
      "metadata": {
        "cellView": "form",
        "id": "gqhFNBHCir48"
      },
      "source": [
        "#@title Run this command for server start\r\n",
        "\r\n",
        "!pip -q install pyngrok\r\n",
        "\r\n",
        "import os\r\n",
        "import re\r\n",
        "from pyngrok import conf, ngrok\r\n",
        "\r\n",
        "# this for ngrok token\r\n",
        "print(\"Get your authtoken from https://dashboard.ngrok.com/auth\")\r\n",
        "import getpass\r\n",
        "authtoken = \"tokenpaste here\"  # input your Ngrok auth token here\r\n",
        "! ngrok authtoken $authtoken # login to ngrok\r\n",
        "\r\n",
        "# set ngrok region\r\n",
        "# 'us' for united states, 'ap' for asia pasific, 'eu' for europe, 'au' for australia\r\n",
        "conf.get_default().region = 'ap' \r\n",
        "\r\n",
        "# to get the ip\r\n",
        "url = ngrok.connect(25565, 'tcp')\r\n",
        "print('Your server address is ' + ((str(url).split('\"')[1::2])[0]).replace('tcp://', ''))\r\n",
        "\r\n",
        "# folder where contains forge\r\n",
        "%cd \"/content/drive/My Drive/rlcraft-server\"\r\n",
        "\r\n",
        "print('Starting server...')\r\n",
        "!java -Xms1G -Xmx3G -jar forge.jar"
      ],
      "execution_count": null,
      "outputs": []
    }
  ]
}